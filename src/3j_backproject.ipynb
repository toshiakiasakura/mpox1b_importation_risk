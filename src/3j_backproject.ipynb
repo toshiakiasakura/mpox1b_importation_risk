{
 "cells": [
  {
   "cell_type": "code",
   "execution_count": null,
   "metadata": {},
   "outputs": [],
   "source": [
    "include(\"utils.jl\")\n",
    "n_top= 100 # Extract top 100"
   ]
  },
  {
   "cell_type": "markdown",
   "metadata": {},
   "source": [
    "## Primary source is DRC."
   ]
  },
  {
   "cell_type": "code",
   "execution_count": null,
   "metadata": {},
   "outputs": [],
   "source": [
    "df1 = CSV.read(\"../dt_flight/Scenario1.csv\", DataFrame)\n",
    "df1 = add_pa_and_observed_flag(df1, N_COD)\n",
    "estimate_four_patterns(df1)"
   ]
  },
  {
   "cell_type": "code",
   "execution_count": null,
   "metadata": {},
   "outputs": [],
   "source": [
    "df2 = CSV.read(\"../dt_flight/Scenario2.csv\", DataFrame)\n",
    "df2 = add_pa_and_observed_flag(df2, N_COD + N_BDI)\n",
    "estimate_four_patterns(df2)\n",
    "nothing"
   ]
  },
  {
   "cell_type": "code",
   "execution_count": null,
   "metadata": {},
   "outputs": [],
   "source": [
    "df3 = CSV.read(\"../dt_flight/Scenario3.csv\", DataFrame)\n",
    "df3 = add_pa_and_observed_flag(df3, N_5cnt)\n",
    "estimate_four_patterns(df3)\n",
    "nothing"
   ]
  },
  {
   "cell_type": "markdown",
   "metadata": {},
   "source": [
    "## Primary source is South Kivu"
   ]
  },
  {
   "cell_type": "code",
   "execution_count": 124,
   "metadata": {},
   "outputs": [],
   "source": [
    "df1 = CSV.read(\"../dt_flight/Scenario1.csv\", DataFrame)\n",
    "df2 = CSV.read(\"../dt_flight/Scenario2.csv\", DataFrame)\n",
    "df3 = CSV.read(\"../dt_flight/Scenario3.csv\", DataFrame)\n",
    "nothing"
   ]
  },
  {
   "cell_type": "code",
   "execution_count": 125,
   "metadata": {},
   "outputs": [],
   "source": [
    "df1_tmp = @chain df1 begin\n",
    "    @rename(:Volume2 = :Volume)\n",
    "    @select(:Volume2, :Country)\n",
    "end\n",
    "df2_tmp = leftjoin(df2, df1_tmp, on=:Country)\n",
    "df2_tmp = @chain df2_tmp begin\n",
    "    @orderby(-:Volume)\n",
    "    @transform(:Volume2 = coalesce.(:Volume2, 0))\n",
    "    @transform(:Volume = :Volume .- :Volume2 .+ (N_SK/N_COD) .* :Volume2)\n",
    "end\n",
    "df3_tmp = leftjoin(df3, df1_tmp, on=:Country)\n",
    "df3_tmp = @chain df3_tmp begin\n",
    "    @orderby(-:Volume)\n",
    "    @transform(:Volume2 = coalesce.(:Volume2, 0))\n",
    "    @transform(:Volume = :Volume .- :Volume2 .+ (N_SK/N_COD) .* :Volume2)\n",
    "end\n",
    "nothing"
   ]
  },
  {
   "cell_type": "code",
   "execution_count": null,
   "metadata": {},
   "outputs": [],
   "source": [
    "df2_tmp = add_pa_and_observed_flag(df2_tmp, N_SK + N_BDI)\n",
    "estimate_four_patterns(df2_tmp)"
   ]
  },
  {
   "cell_type": "code",
   "execution_count": null,
   "metadata": {},
   "outputs": [],
   "source": [
    "df3_tmp = add_pa_and_observed_flag(df3_tmp, N_SK + N_BDI + N_UGA + N_KEN + N_RWA)\n",
    "estimate_four_patterns(df3_tmp)"
   ]
  },
  {
   "cell_type": "code",
   "execution_count": null,
   "metadata": {},
   "outputs": [],
   "source": []
  }
 ],
 "metadata": {
  "kernelspec": {
   "display_name": "Julia 1.7.3",
   "language": "julia",
   "name": "julia-1.7"
  },
  "language_info": {
   "file_extension": ".jl",
   "mimetype": "application/julia",
   "name": "julia",
   "version": "1.7.3"
  }
 },
 "nbformat": 4,
 "nbformat_minor": 2
}
