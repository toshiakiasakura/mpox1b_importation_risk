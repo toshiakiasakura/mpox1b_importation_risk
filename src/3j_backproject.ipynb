{
 "cells": [
  {
   "cell_type": "code",
   "execution_count": null,
   "metadata": {},
   "outputs": [],
   "source": [
    "include(\"utils.jl\")\n",
    "n_top= 100 # Extract top 100"
   ]
  },
  {
   "cell_type": "markdown",
   "metadata": {},
   "source": [
    "## Primary source is DRC."
   ]
  },
  {
   "cell_type": "code",
   "execution_count": null,
   "metadata": {},
   "outputs": [],
   "source": [
    "df1 = CSV.read(\"../dt_flight/Scenario1.csv\", DataFrame)\n",
    "df1 = add_pa_and_observed_flag(df1, N_COD)\n",
    "estimate_four_patterns(df1)"
   ]
  },
  {
   "cell_type": "code",
   "execution_count": null,
   "metadata": {},
   "outputs": [],
   "source": [
    "df2 = CSV.read(\"../dt_flight/Scenario2.csv\", DataFrame)\n",
    "df2 = add_pa_and_observed_flag(df2, N_COD + N_BDI)\n",
    "estimate_four_patterns(df2)\n",
    "nothing"
   ]
  },
  {
   "cell_type": "code",
   "execution_count": null,
   "metadata": {},
   "outputs": [],
   "source": [
    "df3 = CSV.read(\"../dt_flight/Scenario3.csv\", DataFrame)\n",
    "df3 = add_pa_and_observed_flag(df3, N_5cnt)\n",
    "estimate_four_patterns(df3)\n",
    "nothing"
   ]
  }
 ],
 "metadata": {
  "kernelspec": {
   "display_name": "Julia 1.7.3",
   "language": "julia",
   "name": "julia-1.7"
  },
  "language_info": {
   "file_extension": ".jl",
   "mimetype": "application/julia",
   "name": "julia",
   "version": "1.7.3"
  }
 },
 "nbformat": 4,
 "nbformat_minor": 2
}
