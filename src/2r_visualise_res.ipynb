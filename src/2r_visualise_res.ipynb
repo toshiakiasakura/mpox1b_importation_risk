{
 "cells": [
  {
   "cell_type": "code",
   "execution_count": null,
   "metadata": {
    "vscode": {
     "languageId": "r"
    }
   },
   "outputs": [],
   "source": [
    "library(ggplot2)\n",
    "library(tidyverse)\n",
    "library(scales)  # For formatting numbers"
   ]
  },
  {
   "cell_type": "code",
   "execution_count": 3,
   "metadata": {
    "vscode": {
     "languageId": "r"
    }
   },
   "outputs": [],
   "source": [
    "dat <- read.csv(\"../res/results1.csv\")\n",
    "dat <- dat %>%\n",
    "    arrange(casesbeforeimport.median) %>%\n",
    "    mutate(country=factor(country, levels=country))"
   ]
  },
  {
   "cell_type": "code",
   "execution_count": null,
   "metadata": {
    "vscode": {
     "languageId": "r"
    }
   },
   "outputs": [],
   "source": [
    "# Create the plot\n",
    "plot <- ggplot(dat[1:100,], aes(x = country, y = casesbeforeimport.median, ymin = casesbeforeimport.lower, ymax = casesbeforeimport.upper)) +\n",
    "  geom_hline(yintercept = c(1, 10, 100, 1000, 10000), color = \"grey\", alpha=1.0, size = 0.5, linetype = \"dotted\")  +  # Add custom horizontal lines\n",
    "  geom_pointrange(color=\"steelblue1\", size=0.75, fatten=0.6) +\n",
    "  scale_y_log10(\n",
    "    breaks = scales::trans_breaks(\"log10\", function(x) 10^x),\n",
    "   ) + # Set log scale for y-axis\n",
    "  xlab(\"\") +\n",
    "  ylab(\"Number of importations\") +\n",
    "  #theme_minimal(base_size=12) +\n",
    "  theme(\n",
    "    panel.background = element_rect(fill = \"white\", colour = \"white\"),\n",
    "    axis.text.x = element_text(angle = 90, hjust = 1, vjust=0.5, size=10), # Rotate x axis labels for better visibility\n",
    "    axis.text.y = element_text(margin = margin(r = 10, unit = \"pt\")),  # Increase right margin of y labels\n",
    "    #panel.grid.major.y= element_line(color=\"grey\", size=0.5), #element_blank(), # Turn off major grid lines\n",
    "    panel.grid.major = element_blank(),  # Turn off minor grid lines\n",
    "    panel.grid.minor = element_blank(),  # Turn off minor grid lines\n",
    "    axis.ticks.x = element_line(color = \"black\"), # , length = unit(0.5, \"cm\")), # Turn on and adjust x-axis ticks\n",
    "    #axis.ticks.y = element_line(margin = margin(t = 100, unit = \"pt\")), # , length = unit(0.5, \"cm\")), # Turn on and adjust x-axis ticks\n",
    "    axis.ticks.length = unit(0.5, \"mm\"), # Adjust tick length\n",
    "    axis.line = element_line(colour = \"black\", size = 0.25)\n",
    "  )  +\n",
    "    annotation_logticks(\n",
    "      side=\"l\", scaled=TRUE, outside=TRUE,\n",
    "      short = unit(.2,\"mm\"), mid = unit(.5,\"mm\"), long = unit(1.0,\"mm\")\n",
    "      ) +\n",
    "   coord_cartesian(clip = \"off\")  # Ticks outside plot\n",
    "\n",
    "# You can adjust the size of the plot when saving\n",
    "ggsave(\"plot.png\", plot, width = 15, height = 6, dpi = 300)\n",
    "plot"
   ]
  }
 ],
 "metadata": {
  "kernelspec": {
   "display_name": "R",
   "language": "R",
   "name": "ir"
  },
  "language_info": {
   "codemirror_mode": "r",
   "file_extension": ".r",
   "mimetype": "text/x-r-source",
   "name": "R",
   "pygments_lexer": "r",
   "version": "4.1.3"
  }
 },
 "nbformat": 4,
 "nbformat_minor": 2
}
